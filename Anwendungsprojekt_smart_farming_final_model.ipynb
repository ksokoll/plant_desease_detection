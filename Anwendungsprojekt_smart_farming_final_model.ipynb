{
  "cells": [
    {
      "cell_type": "markdown",
      "metadata": {
        "id": "view-in-github",
        "colab_type": "text"
      },
      "source": [
        "<a href=\"https://colab.research.google.com/github/ksokoll/plant_desease_detection/blob/main/Anwendungsprojekt_smart_farming_final_model.ipynb\" target=\"_parent\"><img src=\"https://colab.research.google.com/assets/colab-badge.svg\" alt=\"Open In Colab\"/></a>"
      ]
    },
    {
      "cell_type": "markdown",
      "metadata": {
        "id": "D9d_ehTzqvi9"
      },
      "source": [
        "# 1. Initialization"
      ]
    },
    {
      "cell_type": "code",
      "execution_count": null,
      "metadata": {
        "id": "O6Xk6wCVaVCd"
      },
      "outputs": [],
      "source": [
        "pip install anvil-uplink #Installation der Anvil-Uplink Funktion zur Kommunikation mit der Anvil-Web-App"
      ]
    },
    {
      "cell_type": "code",
      "execution_count": null,
      "metadata": {
        "id": "hwxxWYuseRRX"
      },
      "outputs": [],
      "source": [
        "import torch #Nutzung des Modells mit der CPU/GPU\n",
        "import cv2 #Open-Source Bibliothek zur Bildverarbeitung\n",
        "from google.colab.patches import cv2_imshow #Google-Colab Patch zur Stabilisierung von CV2\n",
        "import yaml #Notwendig zum Auslesen der YOLOv5 .yaml Datei\n",
        "from collections import Counter #Bibliothek zur Nutzung eines Dictionaries zur Ermittlung der Klasse\n",
        "import numpy as np #Python-Bibliothek zum Arbeiten mit Arrays\n",
        "import base64 #Bibliothek zum Kodieren / Dekodieren von binären Daten für den Transport der Bilder"
      ]
    },
    {
      "cell_type": "code",
      "execution_count": null,
      "metadata": {
        "id": "Id48rU8madva"
      },
      "outputs": [],
      "source": [
        "import anvil.server #Import der Anvil-Server Funktion zur Verbindung mit Anvil\n",
        "\n",
        "anvil.server.connect(\"<your anvil server>\") #Das Anvil Server-Objekt. Den Code mit dem persönlichen Anvil-Code tauschen"
      ]
    },
    {
      "cell_type": "code",
      "execution_count": null,
      "metadata": {
        "id": "mwNvtMJThM2T"
      },
      "outputs": [],
      "source": [
        "!git clone https://github.com/ultralytics/yolov5\n",
        "%cd yolov5\n",
        "%pip install -qr requirements.txt"
      ]
    },
    {
      "cell_type": "code",
      "execution_count": null,
      "metadata": {
        "id": "apNE2TvUOfGR"
      },
      "outputs": [],
      "source": [
        "device = torch.device('cpu') #Festlegung des Gerätes auf \"CPU\". Kann bei Bedarf auf \"GPU\" umgestellt werden."
      ]
    },
    {
      "cell_type": "code",
      "execution_count": null,
      "metadata": {
        "id": "RNtxn3CJbYuO"
      },
      "outputs": [],
      "source": [
        "# Lade das Modell von Google Drive\n",
        "model_path = '/content/drive/MyDrive/Colab Notebooks/Diseases_Colab_Files/best 300 epochs model L.pt'\n",
        "model = torch.hub.load('/content/yolov5', 'custom', path=model_path, source='local')\n",
        "model.to(device)\n",
        "model = model.float()"
      ]
    },
    {
      "cell_type": "markdown",
      "metadata": {
        "id": "bJnkDZzVq0PM"
      },
      "source": [
        "# 2. File Upload and Prediction"
      ]
    },
    {
      "cell_type": "code",
      "execution_count": null,
      "metadata": {
        "id": "CCp2JjMtotFr"
      },
      "outputs": [],
      "source": [
        "# Load and save class names from YAML file\n",
        "data_yaml_path = '/content/drive/MyDrive/Colab Notebooks/Diseases_Dataset_filtered/data.yaml'\n",
        "with open(data_yaml_path, 'r') as file:\n",
        "    data_yaml = yaml.safe_load(file)\n",
        "    class_names = data_yaml['names']"
      ]
    },
    {
      "cell_type": "code",
      "execution_count": null,
      "metadata": {
        "id": "A6x-BlueOhM_"
      },
      "outputs": [],
      "source": [
        "@anvil.server.callable\n",
        "def process_image(file):\n",
        "\n",
        "  # Empfangen der Bilddaten von Anvil\n",
        "  file_data = file.get_bytes()\n",
        "\n",
        "  # Konvertieren der Bilddaten in eine Np-Array\n",
        "  nparr = np.frombuffer(file_data, np.uint8)\n",
        "\n",
        "  # Dekodieren des base64 bitstreams mithilfe von CV2\n",
        "  img = cv2.imdecode(nparr, cv2.IMREAD_COLOR)\n",
        "\n",
        "  # Abfangen eines Fehlers, falls es kein Bild gibt\n",
        "  if img is None:\n",
        "        return \"Fehler beim Einlesen des Bildes\"\n",
        "\n",
        "  # Anwenden des Machine-Learning Modells zur Vorhersage der Ergebnisse\n",
        "  results = model(img, size=416)\n",
        "  predictions = results.xyxy[0]\n",
        "\n",
        "  # Anfangen eines Fehlers, falls keine Vorhersagen getroffen wurden\n",
        "  if predictions is None or len(predictions) == 0:\n",
        "        return \"Keine Pflanzenkrankheiten gefunden\"\n",
        "\n",
        "  # Konvertieren der Vorhersagen in ein Dictionary, anschließend Majority-Voting zur Festlegung der Klasse\n",
        "  predicted_class_indices = predictions[:, 5].int().tolist()\n",
        "  predicted_classes = [class_names[i] for i in predicted_class_indices]\n",
        "  predicted_class = Counter(predicted_classes).most_common(1)[0][0]\n",
        "\n",
        "  # (Optional zu Demonstrationszwecken) Visuelles Kenntlichmachen der Vorhersagen auf dem Bild\n",
        "  for det in predictions:\n",
        "    x1, y1, x2, y2, conf, cls = det[:6]\n",
        "    label = f\"{class_names[int(cls)]} {conf:.2f}\"\n",
        "    cv2.rectangle(img, (int(x1), int(y1)), (int(x2), int(y2)), (0, 255, 0), 2)\n",
        "    cv2.putText(img, label, (int(x1), int(y1) - 10), cv2.FONT_HERSHEY_SIMPLEX, 0.9, (0, 255, 0), 2)\n",
        "\n",
        "  # (Optional) Rückgabe des Bildes, einschließlich visueller Merkmale\n",
        "  _, buffer = cv2.imencode('.jpg', img)\n",
        "  img_bytes = buffer.tobytes()\n",
        "  img_base64 = base64.b64encode(img_bytes).decode('utf-8')\n",
        "\n",
        "  # Rückgabe der ermittelten Klasse, Rückgabe des Bildes mit visuellen Merkmalen\n",
        "  return predicted_class, img_base64"
      ]
    },
    {
      "cell_type": "code",
      "execution_count": null,
      "metadata": {
        "id": "w5jmbiHn9_iD"
      },
      "outputs": [],
      "source": [
        "anvil.server.wait_forever()"
      ]
    }
  ],
  "metadata": {
    "colab": {
      "machine_shape": "hm",
      "provenance": [],
      "mount_file_id": "17aWCDDiao-QVQslFRWAR4bYsqYZHHD4C",
      "authorship_tag": "ABX9TyN9qXe4xM9s4aQAOLDwjceT",
      "include_colab_link": true
    },
    "kernelspec": {
      "display_name": "Python 3",
      "name": "python3"
    },
    "language_info": {
      "name": "python"
    }
  },
  "nbformat": 4,
  "nbformat_minor": 0
}