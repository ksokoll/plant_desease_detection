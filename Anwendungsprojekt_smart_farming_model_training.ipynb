{
  "nbformat": 4,
  "nbformat_minor": 0,
  "metadata": {
    "colab": {
      "provenance": [],
      "gpuType": "T4",
      "mount_file_id": "1DwT2ArhT27ZdXRfRu1-dwyqhfLKi0hn3",
      "authorship_tag": "ABX9TyPs+w7Y/G3dOpEhdo7/5/Iq",
      "include_colab_link": true
    },
    "kernelspec": {
      "name": "python3",
      "display_name": "Python 3"
    },
    "language_info": {
      "name": "python"
    },
    "accelerator": "GPU"
  },
  "cells": [
    {
      "cell_type": "markdown",
      "metadata": {
        "id": "view-in-github",
        "colab_type": "text"
      },
      "source": [
        "<a href=\"https://colab.research.google.com/github/ksokoll/plant_desease_detection/blob/main/Anwendungsprojekt_smart_farming_model_training.ipynb\" target=\"_parent\"><img src=\"https://colab.research.google.com/assets/colab-badge.svg\" alt=\"Open In Colab\"/></a>"
      ]
    },
    {
      "cell_type": "markdown",
      "source": [
        "# Training"
      ],
      "metadata": {
        "id": "UYQ8uYCb52q0"
      }
    },
    {
      "cell_type": "code",
      "execution_count": null,
      "metadata": {
        "id": "AEbAIjKw5ziD"
      },
      "outputs": [],
      "source": [
        "!git clone https://github.com/ultralytics/yolov5\n",
        "%cd yolov5\n",
        "%pip install -qr requirements.txt"
      ]
    },
    {
      "cell_type": "code",
      "source": [
        "!python train.py --img 416 --batch 32 --epochs 1 --data \"/content/drive/MyDrive/Colab Notebooks/Diseases_Colab_Files/data.yaml\" --weights yolov5l.pt --cache --device 0"
      ],
      "metadata": {
        "id": "jMfAoj-4DE22"
      },
      "execution_count": null,
      "outputs": []
    }
  ]
}